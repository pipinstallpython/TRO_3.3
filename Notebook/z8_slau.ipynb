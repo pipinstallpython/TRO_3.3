{
 "cells": [
  {
   "cell_type": "markdown",
   "id": "632f8f31",
   "metadata": {},
   "source": [
    "# Собственные примеры решения систем линейных уравнений матричным методом и методом Крамера."
   ]
  },
  {
   "cell_type": "markdown",
   "id": "4ccfb5e9",
   "metadata": {},
   "source": [
    "## Матричный метод"
   ]
  },
  {
   "attachments": {},
   "cell_type": "markdown",
   "id": "97fb880f",
   "metadata": {},
   "source": [
    "Найти решение СЛАУ матричным методом:$$\n",
    "\\begin{align*}\n",
    "3x + 2y - 5z &= -1 \\\\\n",
    "2x - y + 3z &= 13 \\\\\n",
    "x + 2y - z &= 9 \\\\\n",
    "\\end{align*}\n",
    "$$\n"
   ]
  },
  {
   "cell_type": "code",
   "execution_count": 1,
   "id": "aee4a1fd",
   "metadata": {},
   "outputs": [],
   "source": [
    "import numpy as np"
   ]
  },
  {
   "cell_type": "code",
   "execution_count": 2,
   "id": "9fd71bf4",
   "metadata": {},
   "outputs": [],
   "source": [
    "A = np.matrix('3 2 -5; 2 -1 3; 1 2 -1')\n",
    "B = np.matrix('-1; 13; 9')"
   ]
  },
  {
   "cell_type": "code",
   "execution_count": 3,
   "id": "423c444c",
   "metadata": {},
   "outputs": [
    {
     "name": "stdout",
     "output_type": "stream",
     "text": [
      "X =\n",
      " [[3.]\n",
      " [5.]\n",
      " [4.]]\n"
     ]
    }
   ],
   "source": [
    "if round(np.linalg.det(A), 3) != 0:\n",
    "    A_inv = np.linalg.inv(A)\n",
    "    R = A_inv.dot(B) \n",
    "    print('X =\\n', R)\n",
    "else:\n",
    "    print(\"Определитель равен 0, СЛАУ решить нельзя!\")"
   ]
  },
  {
   "cell_type": "markdown",
   "id": "92e73d11",
   "metadata": {},
   "source": [
    "## Метод Крамера"
   ]
  },
  {
   "cell_type": "markdown",
   "id": "6b335df4",
   "metadata": {},
   "source": [
    "Найти решение СЛАУ методом Крамера:$$\n",
    "\\begin{align*}\n",
    "3x + 2y - 5z &= -1 \\\\\n",
    "2x - y + 3z &= 13 \\\\\n",
    "x + 2y - z &= 9 \\\\\n",
    "\\end{align*}\n",
    "$$\n"
   ]
  },
  {
   "cell_type": "code",
   "execution_count": 4,
   "id": "57c59b8d",
   "metadata": {},
   "outputs": [
    {
     "name": "stdout",
     "output_type": "stream",
     "text": [
      "x1 = 3.0\n",
      " x2 = 5.0\n",
      " x3 = 4.0\n",
      "\n"
     ]
    }
   ],
   "source": [
    "if round(np.linalg.det(A), 3) != 0:\n",
    "    C = A.copy() \n",
    "    C[:, 0] = B[:, 0] \n",
    "    x1 = round(np.linalg.det(C), 3) / round(np.linalg.det(A), 3)\n",
    "    \n",
    "    D = A.copy()  \n",
    "    D[:, 1] = B[:, 0] \n",
    "    x2 = round(np.linalg.det(D), 3) / round(np.linalg.det(A), 3) \n",
    "    \n",
    "    E = A.copy() \n",
    "    E[:, 2] = B[:, 0] \n",
    "    x3 = round(np.linalg.det(E), 3) / round(np.linalg.det(A), 3) \n",
    "   \n",
    "    print(f\"x1 = {x1}\\n\", f\"x2 = {x2}\\n\", f\"x3 = {x3}\\n\")"
   ]
  }
 ],
 "metadata": {
  "kernelspec": {
   "display_name": "Python 3 (ipykernel)",
   "language": "python",
   "name": "python3"
  },
  "language_info": {
   "codemirror_mode": {
    "name": "ipython",
    "version": 3
   },
   "file_extension": ".py",
   "mimetype": "text/x-python",
   "name": "python",
   "nbconvert_exporter": "python",
   "pygments_lexer": "ipython3",
   "version": "3.11.1"
  }
 },
 "nbformat": 4,
 "nbformat_minor": 5
}
